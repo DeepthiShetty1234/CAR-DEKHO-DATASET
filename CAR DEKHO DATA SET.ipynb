{
 "cells": [
  {
   "cell_type": "code",
   "execution_count": 2,
   "id": "77883792",
   "metadata": {},
   "outputs": [],
   "source": [
    "import pandas as pd\n",
    "from sklearn.linear_model import LinearRegression,Ridge,Lasso\n",
    "from sklearn.metrics import mean_squared_error,r2_score\n",
    "from sklearn.model_selection import train_test_split\n",
    "import numpy as np\n",
    "import seaborn as sns\n",
    "import matplotlib.pyplot as plt\n",
    "from sklearn.preprocessing import MinMaxScaler\n",
    "from sklearn.metrics import accuracy_score\n",
    "import warnings\n",
    "warnings.filterwarnings('ignore')\n"
   ]
  },
  {
   "cell_type": "code",
   "execution_count": 6,
   "id": "19ed018e",
   "metadata": {},
   "outputs": [
    {
     "data": {
      "text/html": [
       "<div>\n",
       "<style scoped>\n",
       "    .dataframe tbody tr th:only-of-type {\n",
       "        vertical-align: middle;\n",
       "    }\n",
       "\n",
       "    .dataframe tbody tr th {\n",
       "        vertical-align: top;\n",
       "    }\n",
       "\n",
       "    .dataframe thead th {\n",
       "        text-align: right;\n",
       "    }\n",
       "</style>\n",
       "<table border=\"1\" class=\"dataframe\">\n",
       "  <thead>\n",
       "    <tr style=\"text-align: right;\">\n",
       "      <th></th>\n",
       "      <th>name</th>\n",
       "      <th>year</th>\n",
       "      <th>selling_price</th>\n",
       "      <th>km_driven</th>\n",
       "      <th>fuel</th>\n",
       "      <th>seller_type</th>\n",
       "      <th>transmission</th>\n",
       "      <th>owner</th>\n",
       "      <th>mileage</th>\n",
       "      <th>engine</th>\n",
       "      <th>max_power</th>\n",
       "      <th>torque</th>\n",
       "      <th>seats</th>\n",
       "    </tr>\n",
       "  </thead>\n",
       "  <tbody>\n",
       "    <tr>\n",
       "      <th>0</th>\n",
       "      <td>Maruti Swift Dzire VDI</td>\n",
       "      <td>2014</td>\n",
       "      <td>450000</td>\n",
       "      <td>145500</td>\n",
       "      <td>Diesel</td>\n",
       "      <td>Individual</td>\n",
       "      <td>Manual</td>\n",
       "      <td>First Owner</td>\n",
       "      <td>23.4 kmpl</td>\n",
       "      <td>1248 CC</td>\n",
       "      <td>74 bhp</td>\n",
       "      <td>190Nm@ 2000rpm</td>\n",
       "      <td>5.0</td>\n",
       "    </tr>\n",
       "    <tr>\n",
       "      <th>1</th>\n",
       "      <td>Skoda Rapid 1.5 TDI Ambition</td>\n",
       "      <td>2014</td>\n",
       "      <td>370000</td>\n",
       "      <td>120000</td>\n",
       "      <td>Diesel</td>\n",
       "      <td>Individual</td>\n",
       "      <td>Manual</td>\n",
       "      <td>Second Owner</td>\n",
       "      <td>21.14 kmpl</td>\n",
       "      <td>1498 CC</td>\n",
       "      <td>103.52 bhp</td>\n",
       "      <td>250Nm@ 1500-2500rpm</td>\n",
       "      <td>5.0</td>\n",
       "    </tr>\n",
       "    <tr>\n",
       "      <th>2</th>\n",
       "      <td>Honda City 2017-2020 EXi</td>\n",
       "      <td>2006</td>\n",
       "      <td>158000</td>\n",
       "      <td>140000</td>\n",
       "      <td>Petrol</td>\n",
       "      <td>Individual</td>\n",
       "      <td>Manual</td>\n",
       "      <td>Third Owner</td>\n",
       "      <td>17.7 kmpl</td>\n",
       "      <td>1497 CC</td>\n",
       "      <td>78 bhp</td>\n",
       "      <td>12.7@ 2,700(kgm@ rpm)</td>\n",
       "      <td>5.0</td>\n",
       "    </tr>\n",
       "    <tr>\n",
       "      <th>3</th>\n",
       "      <td>Hyundai i20 Sportz Diesel</td>\n",
       "      <td>2010</td>\n",
       "      <td>225000</td>\n",
       "      <td>127000</td>\n",
       "      <td>Diesel</td>\n",
       "      <td>Individual</td>\n",
       "      <td>Manual</td>\n",
       "      <td>First Owner</td>\n",
       "      <td>23.0 kmpl</td>\n",
       "      <td>1396 CC</td>\n",
       "      <td>90 bhp</td>\n",
       "      <td>22.4 kgm at 1750-2750rpm</td>\n",
       "      <td>5.0</td>\n",
       "    </tr>\n",
       "    <tr>\n",
       "      <th>4</th>\n",
       "      <td>Maruti Swift VXI BSIII</td>\n",
       "      <td>2007</td>\n",
       "      <td>130000</td>\n",
       "      <td>120000</td>\n",
       "      <td>Petrol</td>\n",
       "      <td>Individual</td>\n",
       "      <td>Manual</td>\n",
       "      <td>First Owner</td>\n",
       "      <td>16.1 kmpl</td>\n",
       "      <td>1298 CC</td>\n",
       "      <td>88.2 bhp</td>\n",
       "      <td>11.5@ 4,500(kgm@ rpm)</td>\n",
       "      <td>5.0</td>\n",
       "    </tr>\n",
       "    <tr>\n",
       "      <th>...</th>\n",
       "      <td>...</td>\n",
       "      <td>...</td>\n",
       "      <td>...</td>\n",
       "      <td>...</td>\n",
       "      <td>...</td>\n",
       "      <td>...</td>\n",
       "      <td>...</td>\n",
       "      <td>...</td>\n",
       "      <td>...</td>\n",
       "      <td>...</td>\n",
       "      <td>...</td>\n",
       "      <td>...</td>\n",
       "      <td>...</td>\n",
       "    </tr>\n",
       "    <tr>\n",
       "      <th>8123</th>\n",
       "      <td>Hyundai i20 Magna</td>\n",
       "      <td>2013</td>\n",
       "      <td>320000</td>\n",
       "      <td>110000</td>\n",
       "      <td>Petrol</td>\n",
       "      <td>Individual</td>\n",
       "      <td>Manual</td>\n",
       "      <td>First Owner</td>\n",
       "      <td>18.5 kmpl</td>\n",
       "      <td>1197 CC</td>\n",
       "      <td>82.85 bhp</td>\n",
       "      <td>113.7Nm@ 4000rpm</td>\n",
       "      <td>5.0</td>\n",
       "    </tr>\n",
       "    <tr>\n",
       "      <th>8124</th>\n",
       "      <td>Hyundai Verna CRDi SX</td>\n",
       "      <td>2007</td>\n",
       "      <td>135000</td>\n",
       "      <td>119000</td>\n",
       "      <td>Diesel</td>\n",
       "      <td>Individual</td>\n",
       "      <td>Manual</td>\n",
       "      <td>Fourth &amp; Above Owner</td>\n",
       "      <td>16.8 kmpl</td>\n",
       "      <td>1493 CC</td>\n",
       "      <td>110 bhp</td>\n",
       "      <td>24@ 1,900-2,750(kgm@ rpm)</td>\n",
       "      <td>5.0</td>\n",
       "    </tr>\n",
       "    <tr>\n",
       "      <th>8125</th>\n",
       "      <td>Maruti Swift Dzire ZDi</td>\n",
       "      <td>2009</td>\n",
       "      <td>382000</td>\n",
       "      <td>120000</td>\n",
       "      <td>Diesel</td>\n",
       "      <td>Individual</td>\n",
       "      <td>Manual</td>\n",
       "      <td>First Owner</td>\n",
       "      <td>19.3 kmpl</td>\n",
       "      <td>1248 CC</td>\n",
       "      <td>73.9 bhp</td>\n",
       "      <td>190Nm@ 2000rpm</td>\n",
       "      <td>5.0</td>\n",
       "    </tr>\n",
       "    <tr>\n",
       "      <th>8126</th>\n",
       "      <td>Tata Indigo CR4</td>\n",
       "      <td>2013</td>\n",
       "      <td>290000</td>\n",
       "      <td>25000</td>\n",
       "      <td>Diesel</td>\n",
       "      <td>Individual</td>\n",
       "      <td>Manual</td>\n",
       "      <td>First Owner</td>\n",
       "      <td>23.57 kmpl</td>\n",
       "      <td>1396 CC</td>\n",
       "      <td>70 bhp</td>\n",
       "      <td>140Nm@ 1800-3000rpm</td>\n",
       "      <td>5.0</td>\n",
       "    </tr>\n",
       "    <tr>\n",
       "      <th>8127</th>\n",
       "      <td>Tata Indigo CR4</td>\n",
       "      <td>2013</td>\n",
       "      <td>290000</td>\n",
       "      <td>25000</td>\n",
       "      <td>Diesel</td>\n",
       "      <td>Individual</td>\n",
       "      <td>Manual</td>\n",
       "      <td>First Owner</td>\n",
       "      <td>23.57 kmpl</td>\n",
       "      <td>1396 CC</td>\n",
       "      <td>70 bhp</td>\n",
       "      <td>140Nm@ 1800-3000rpm</td>\n",
       "      <td>5.0</td>\n",
       "    </tr>\n",
       "  </tbody>\n",
       "</table>\n",
       "<p>8128 rows × 13 columns</p>\n",
       "</div>"
      ],
      "text/plain": [
       "                              name  year  selling_price  km_driven    fuel  \\\n",
       "0           Maruti Swift Dzire VDI  2014         450000     145500  Diesel   \n",
       "1     Skoda Rapid 1.5 TDI Ambition  2014         370000     120000  Diesel   \n",
       "2         Honda City 2017-2020 EXi  2006         158000     140000  Petrol   \n",
       "3        Hyundai i20 Sportz Diesel  2010         225000     127000  Diesel   \n",
       "4           Maruti Swift VXI BSIII  2007         130000     120000  Petrol   \n",
       "...                            ...   ...            ...        ...     ...   \n",
       "8123             Hyundai i20 Magna  2013         320000     110000  Petrol   \n",
       "8124         Hyundai Verna CRDi SX  2007         135000     119000  Diesel   \n",
       "8125        Maruti Swift Dzire ZDi  2009         382000     120000  Diesel   \n",
       "8126               Tata Indigo CR4  2013         290000      25000  Diesel   \n",
       "8127               Tata Indigo CR4  2013         290000      25000  Diesel   \n",
       "\n",
       "     seller_type transmission                 owner     mileage   engine  \\\n",
       "0     Individual       Manual           First Owner   23.4 kmpl  1248 CC   \n",
       "1     Individual       Manual          Second Owner  21.14 kmpl  1498 CC   \n",
       "2     Individual       Manual           Third Owner   17.7 kmpl  1497 CC   \n",
       "3     Individual       Manual           First Owner   23.0 kmpl  1396 CC   \n",
       "4     Individual       Manual           First Owner   16.1 kmpl  1298 CC   \n",
       "...          ...          ...                   ...         ...      ...   \n",
       "8123  Individual       Manual           First Owner   18.5 kmpl  1197 CC   \n",
       "8124  Individual       Manual  Fourth & Above Owner   16.8 kmpl  1493 CC   \n",
       "8125  Individual       Manual           First Owner   19.3 kmpl  1248 CC   \n",
       "8126  Individual       Manual           First Owner  23.57 kmpl  1396 CC   \n",
       "8127  Individual       Manual           First Owner  23.57 kmpl  1396 CC   \n",
       "\n",
       "       max_power                     torque  seats  \n",
       "0         74 bhp             190Nm@ 2000rpm    5.0  \n",
       "1     103.52 bhp        250Nm@ 1500-2500rpm    5.0  \n",
       "2         78 bhp      12.7@ 2,700(kgm@ rpm)    5.0  \n",
       "3         90 bhp   22.4 kgm at 1750-2750rpm    5.0  \n",
       "4       88.2 bhp      11.5@ 4,500(kgm@ rpm)    5.0  \n",
       "...          ...                        ...    ...  \n",
       "8123   82.85 bhp           113.7Nm@ 4000rpm    5.0  \n",
       "8124     110 bhp  24@ 1,900-2,750(kgm@ rpm)    5.0  \n",
       "8125    73.9 bhp             190Nm@ 2000rpm    5.0  \n",
       "8126      70 bhp        140Nm@ 1800-3000rpm    5.0  \n",
       "8127      70 bhp        140Nm@ 1800-3000rpm    5.0  \n",
       "\n",
       "[8128 rows x 13 columns]"
      ]
     },
     "execution_count": 6,
     "metadata": {},
     "output_type": "execute_result"
    }
   ],
   "source": [
    "df = pd.read_csv('Car-details-v3.csv')\n",
    "df"
   ]
  },
  {
   "cell_type": "code",
   "execution_count": 9,
   "id": "25e2a053",
   "metadata": {},
   "outputs": [
    {
     "data": {
      "text/plain": [
       "<bound method NDFrame.head of                               name  year  selling_price  km_driven    fuel  \\\n",
       "0           Maruti Swift Dzire VDI  2014         450000     145500  Diesel   \n",
       "1     Skoda Rapid 1.5 TDI Ambition  2014         370000     120000  Diesel   \n",
       "2         Honda City 2017-2020 EXi  2006         158000     140000  Petrol   \n",
       "3        Hyundai i20 Sportz Diesel  2010         225000     127000  Diesel   \n",
       "4           Maruti Swift VXI BSIII  2007         130000     120000  Petrol   \n",
       "...                            ...   ...            ...        ...     ...   \n",
       "8123             Hyundai i20 Magna  2013         320000     110000  Petrol   \n",
       "8124         Hyundai Verna CRDi SX  2007         135000     119000  Diesel   \n",
       "8125        Maruti Swift Dzire ZDi  2009         382000     120000  Diesel   \n",
       "8126               Tata Indigo CR4  2013         290000      25000  Diesel   \n",
       "8127               Tata Indigo CR4  2013         290000      25000  Diesel   \n",
       "\n",
       "     seller_type transmission                 owner     mileage   engine  \\\n",
       "0     Individual       Manual           First Owner   23.4 kmpl  1248 CC   \n",
       "1     Individual       Manual          Second Owner  21.14 kmpl  1498 CC   \n",
       "2     Individual       Manual           Third Owner   17.7 kmpl  1497 CC   \n",
       "3     Individual       Manual           First Owner   23.0 kmpl  1396 CC   \n",
       "4     Individual       Manual           First Owner   16.1 kmpl  1298 CC   \n",
       "...          ...          ...                   ...         ...      ...   \n",
       "8123  Individual       Manual           First Owner   18.5 kmpl  1197 CC   \n",
       "8124  Individual       Manual  Fourth & Above Owner   16.8 kmpl  1493 CC   \n",
       "8125  Individual       Manual           First Owner   19.3 kmpl  1248 CC   \n",
       "8126  Individual       Manual           First Owner  23.57 kmpl  1396 CC   \n",
       "8127  Individual       Manual           First Owner  23.57 kmpl  1396 CC   \n",
       "\n",
       "       max_power                     torque  seats  \n",
       "0         74 bhp             190Nm@ 2000rpm    5.0  \n",
       "1     103.52 bhp        250Nm@ 1500-2500rpm    5.0  \n",
       "2         78 bhp      12.7@ 2,700(kgm@ rpm)    5.0  \n",
       "3         90 bhp   22.4 kgm at 1750-2750rpm    5.0  \n",
       "4       88.2 bhp      11.5@ 4,500(kgm@ rpm)    5.0  \n",
       "...          ...                        ...    ...  \n",
       "8123   82.85 bhp           113.7Nm@ 4000rpm    5.0  \n",
       "8124     110 bhp  24@ 1,900-2,750(kgm@ rpm)    5.0  \n",
       "8125    73.9 bhp             190Nm@ 2000rpm    5.0  \n",
       "8126      70 bhp        140Nm@ 1800-3000rpm    5.0  \n",
       "8127      70 bhp        140Nm@ 1800-3000rpm    5.0  \n",
       "\n",
       "[8128 rows x 13 columns]>"
      ]
     },
     "execution_count": 9,
     "metadata": {},
     "output_type": "execute_result"
    }
   ],
   "source": [
    "df_car.head"
   ]
  },
  {
   "cell_type": "code",
   "execution_count": 10,
   "id": "6f413355",
   "metadata": {},
   "outputs": [
    {
     "data": {
      "text/plain": [
       "(8128, 13)"
      ]
     },
     "execution_count": 10,
     "metadata": {},
     "output_type": "execute_result"
    }
   ],
   "source": [
    "df_car.shape"
   ]
  },
  {
   "cell_type": "code",
   "execution_count": 11,
   "id": "e9facac7",
   "metadata": {},
   "outputs": [
    {
     "name": "stdout",
     "output_type": "stream",
     "text": [
      "<class 'pandas.core.frame.DataFrame'>\n",
      "RangeIndex: 8128 entries, 0 to 8127\n",
      "Data columns (total 13 columns):\n",
      " #   Column         Non-Null Count  Dtype  \n",
      "---  ------         --------------  -----  \n",
      " 0   name           8128 non-null   object \n",
      " 1   year           8128 non-null   int64  \n",
      " 2   selling_price  8128 non-null   int64  \n",
      " 3   km_driven      8128 non-null   int64  \n",
      " 4   fuel           8128 non-null   object \n",
      " 5   seller_type    8128 non-null   object \n",
      " 6   transmission   8128 non-null   object \n",
      " 7   owner          8128 non-null   object \n",
      " 8   mileage        7907 non-null   object \n",
      " 9   engine         7907 non-null   object \n",
      " 10  max_power      7913 non-null   object \n",
      " 11  torque         7906 non-null   object \n",
      " 12  seats          7907 non-null   float64\n",
      "dtypes: float64(1), int64(3), object(9)\n",
      "memory usage: 825.6+ KB\n"
     ]
    }
   ],
   "source": [
    "df_car.info()"
   ]
  },
  {
   "cell_type": "code",
   "execution_count": 12,
   "id": "869d9674",
   "metadata": {},
   "outputs": [
    {
     "name": "stdout",
     "output_type": "stream",
     "text": [
      "Duplicated Rows:\n"
     ]
    },
    {
     "data": {
      "text/html": [
       "<div>\n",
       "<style scoped>\n",
       "    .dataframe tbody tr th:only-of-type {\n",
       "        vertical-align: middle;\n",
       "    }\n",
       "\n",
       "    .dataframe tbody tr th {\n",
       "        vertical-align: top;\n",
       "    }\n",
       "\n",
       "    .dataframe thead th {\n",
       "        text-align: right;\n",
       "    }\n",
       "</style>\n",
       "<table border=\"1\" class=\"dataframe\">\n",
       "  <thead>\n",
       "    <tr style=\"text-align: right;\">\n",
       "      <th></th>\n",
       "      <th>name</th>\n",
       "      <th>year</th>\n",
       "      <th>selling_price</th>\n",
       "      <th>km_driven</th>\n",
       "      <th>fuel</th>\n",
       "      <th>seller_type</th>\n",
       "      <th>transmission</th>\n",
       "      <th>owner</th>\n",
       "      <th>mileage</th>\n",
       "      <th>engine</th>\n",
       "      <th>max_power</th>\n",
       "      <th>torque</th>\n",
       "      <th>seats</th>\n",
       "    </tr>\n",
       "  </thead>\n",
       "  <tbody>\n",
       "    <tr>\n",
       "      <th>291</th>\n",
       "      <td>Hyundai Grand i10 Sportz</td>\n",
       "      <td>2017</td>\n",
       "      <td>450000</td>\n",
       "      <td>35000</td>\n",
       "      <td>Petrol</td>\n",
       "      <td>Individual</td>\n",
       "      <td>Manual</td>\n",
       "      <td>First Owner</td>\n",
       "      <td>18.9 kmpl</td>\n",
       "      <td>1197 CC</td>\n",
       "      <td>82 bhp</td>\n",
       "      <td>114Nm@ 4000rpm</td>\n",
       "      <td>5.0</td>\n",
       "    </tr>\n",
       "    <tr>\n",
       "      <th>296</th>\n",
       "      <td>Maruti Swift VXI</td>\n",
       "      <td>2012</td>\n",
       "      <td>330000</td>\n",
       "      <td>50000</td>\n",
       "      <td>Petrol</td>\n",
       "      <td>Individual</td>\n",
       "      <td>Manual</td>\n",
       "      <td>Second Owner</td>\n",
       "      <td>18.6 kmpl</td>\n",
       "      <td>1197 CC</td>\n",
       "      <td>85.8 bhp</td>\n",
       "      <td>114Nm@ 4000rpm</td>\n",
       "      <td>5.0</td>\n",
       "    </tr>\n",
       "    <tr>\n",
       "      <th>370</th>\n",
       "      <td>Jaguar XE 2016-2019 2.0L Diesel Prestige</td>\n",
       "      <td>2017</td>\n",
       "      <td>2625000</td>\n",
       "      <td>9000</td>\n",
       "      <td>Diesel</td>\n",
       "      <td>Dealer</td>\n",
       "      <td>Automatic</td>\n",
       "      <td>First Owner</td>\n",
       "      <td>13.6 kmpl</td>\n",
       "      <td>1999 CC</td>\n",
       "      <td>177 bhp</td>\n",
       "      <td>430Nm@ 1750-2500rpm</td>\n",
       "      <td>5.0</td>\n",
       "    </tr>\n",
       "    <tr>\n",
       "      <th>371</th>\n",
       "      <td>Lexus ES 300h</td>\n",
       "      <td>2019</td>\n",
       "      <td>5150000</td>\n",
       "      <td>20000</td>\n",
       "      <td>Petrol</td>\n",
       "      <td>Dealer</td>\n",
       "      <td>Automatic</td>\n",
       "      <td>First Owner</td>\n",
       "      <td>22.37 kmpl</td>\n",
       "      <td>2487 CC</td>\n",
       "      <td>214.56 bhp</td>\n",
       "      <td>202Nm@ 3600-5200rpm</td>\n",
       "      <td>5.0</td>\n",
       "    </tr>\n",
       "    <tr>\n",
       "      <th>372</th>\n",
       "      <td>Jaguar XF 2.0 Diesel Portfolio</td>\n",
       "      <td>2017</td>\n",
       "      <td>3200000</td>\n",
       "      <td>45000</td>\n",
       "      <td>Diesel</td>\n",
       "      <td>Dealer</td>\n",
       "      <td>Automatic</td>\n",
       "      <td>First Owner</td>\n",
       "      <td>19.33 kmpl</td>\n",
       "      <td>1999 CC</td>\n",
       "      <td>177 bhp</td>\n",
       "      <td>430Nm@ 1750-2500rpm</td>\n",
       "      <td>5.0</td>\n",
       "    </tr>\n",
       "    <tr>\n",
       "      <th>...</th>\n",
       "      <td>...</td>\n",
       "      <td>...</td>\n",
       "      <td>...</td>\n",
       "      <td>...</td>\n",
       "      <td>...</td>\n",
       "      <td>...</td>\n",
       "      <td>...</td>\n",
       "      <td>...</td>\n",
       "      <td>...</td>\n",
       "      <td>...</td>\n",
       "      <td>...</td>\n",
       "      <td>...</td>\n",
       "      <td>...</td>\n",
       "    </tr>\n",
       "    <tr>\n",
       "      <th>7987</th>\n",
       "      <td>Renault Captur 1.5 Diesel RXT</td>\n",
       "      <td>2018</td>\n",
       "      <td>1265000</td>\n",
       "      <td>12000</td>\n",
       "      <td>Diesel</td>\n",
       "      <td>Individual</td>\n",
       "      <td>Manual</td>\n",
       "      <td>First Owner</td>\n",
       "      <td>20.37 kmpl</td>\n",
       "      <td>1461 CC</td>\n",
       "      <td>108.45 bhp</td>\n",
       "      <td>240Nm@ 1750rpm</td>\n",
       "      <td>5.0</td>\n",
       "    </tr>\n",
       "    <tr>\n",
       "      <th>7988</th>\n",
       "      <td>Maruti Ciaz Alpha Diesel</td>\n",
       "      <td>2019</td>\n",
       "      <td>1025000</td>\n",
       "      <td>32000</td>\n",
       "      <td>Diesel</td>\n",
       "      <td>Individual</td>\n",
       "      <td>Manual</td>\n",
       "      <td>First Owner</td>\n",
       "      <td>28.09 kmpl</td>\n",
       "      <td>1248 CC</td>\n",
       "      <td>88.50 bhp</td>\n",
       "      <td>200Nm@ 1750rpm</td>\n",
       "      <td>5.0</td>\n",
       "    </tr>\n",
       "    <tr>\n",
       "      <th>8117</th>\n",
       "      <td>Maruti Swift Dzire VDI</td>\n",
       "      <td>2015</td>\n",
       "      <td>625000</td>\n",
       "      <td>50000</td>\n",
       "      <td>Diesel</td>\n",
       "      <td>Individual</td>\n",
       "      <td>Manual</td>\n",
       "      <td>First Owner</td>\n",
       "      <td>26.59 kmpl</td>\n",
       "      <td>1248 CC</td>\n",
       "      <td>74 bhp</td>\n",
       "      <td>190Nm@ 2000rpm</td>\n",
       "      <td>5.0</td>\n",
       "    </tr>\n",
       "    <tr>\n",
       "      <th>8126</th>\n",
       "      <td>Tata Indigo CR4</td>\n",
       "      <td>2013</td>\n",
       "      <td>290000</td>\n",
       "      <td>25000</td>\n",
       "      <td>Diesel</td>\n",
       "      <td>Individual</td>\n",
       "      <td>Manual</td>\n",
       "      <td>First Owner</td>\n",
       "      <td>23.57 kmpl</td>\n",
       "      <td>1396 CC</td>\n",
       "      <td>70 bhp</td>\n",
       "      <td>140Nm@ 1800-3000rpm</td>\n",
       "      <td>5.0</td>\n",
       "    </tr>\n",
       "    <tr>\n",
       "      <th>8127</th>\n",
       "      <td>Tata Indigo CR4</td>\n",
       "      <td>2013</td>\n",
       "      <td>290000</td>\n",
       "      <td>25000</td>\n",
       "      <td>Diesel</td>\n",
       "      <td>Individual</td>\n",
       "      <td>Manual</td>\n",
       "      <td>First Owner</td>\n",
       "      <td>23.57 kmpl</td>\n",
       "      <td>1396 CC</td>\n",
       "      <td>70 bhp</td>\n",
       "      <td>140Nm@ 1800-3000rpm</td>\n",
       "      <td>5.0</td>\n",
       "    </tr>\n",
       "  </tbody>\n",
       "</table>\n",
       "<p>1202 rows × 13 columns</p>\n",
       "</div>"
      ],
      "text/plain": [
       "                                          name  year  selling_price  \\\n",
       "291                   Hyundai Grand i10 Sportz  2017         450000   \n",
       "296                           Maruti Swift VXI  2012         330000   \n",
       "370   Jaguar XE 2016-2019 2.0L Diesel Prestige  2017        2625000   \n",
       "371                              Lexus ES 300h  2019        5150000   \n",
       "372             Jaguar XF 2.0 Diesel Portfolio  2017        3200000   \n",
       "...                                        ...   ...            ...   \n",
       "7987             Renault Captur 1.5 Diesel RXT  2018        1265000   \n",
       "7988                  Maruti Ciaz Alpha Diesel  2019        1025000   \n",
       "8117                    Maruti Swift Dzire VDI  2015         625000   \n",
       "8126                           Tata Indigo CR4  2013         290000   \n",
       "8127                           Tata Indigo CR4  2013         290000   \n",
       "\n",
       "      km_driven    fuel seller_type transmission         owner     mileage  \\\n",
       "291       35000  Petrol  Individual       Manual   First Owner   18.9 kmpl   \n",
       "296       50000  Petrol  Individual       Manual  Second Owner   18.6 kmpl   \n",
       "370        9000  Diesel      Dealer    Automatic   First Owner   13.6 kmpl   \n",
       "371       20000  Petrol      Dealer    Automatic   First Owner  22.37 kmpl   \n",
       "372       45000  Diesel      Dealer    Automatic   First Owner  19.33 kmpl   \n",
       "...         ...     ...         ...          ...           ...         ...   \n",
       "7987      12000  Diesel  Individual       Manual   First Owner  20.37 kmpl   \n",
       "7988      32000  Diesel  Individual       Manual   First Owner  28.09 kmpl   \n",
       "8117      50000  Diesel  Individual       Manual   First Owner  26.59 kmpl   \n",
       "8126      25000  Diesel  Individual       Manual   First Owner  23.57 kmpl   \n",
       "8127      25000  Diesel  Individual       Manual   First Owner  23.57 kmpl   \n",
       "\n",
       "       engine   max_power               torque  seats  \n",
       "291   1197 CC      82 bhp       114Nm@ 4000rpm    5.0  \n",
       "296   1197 CC    85.8 bhp       114Nm@ 4000rpm    5.0  \n",
       "370   1999 CC     177 bhp  430Nm@ 1750-2500rpm    5.0  \n",
       "371   2487 CC  214.56 bhp  202Nm@ 3600-5200rpm    5.0  \n",
       "372   1999 CC     177 bhp  430Nm@ 1750-2500rpm    5.0  \n",
       "...       ...         ...                  ...    ...  \n",
       "7987  1461 CC  108.45 bhp       240Nm@ 1750rpm    5.0  \n",
       "7988  1248 CC   88.50 bhp       200Nm@ 1750rpm    5.0  \n",
       "8117  1248 CC      74 bhp       190Nm@ 2000rpm    5.0  \n",
       "8126  1396 CC      70 bhp  140Nm@ 1800-3000rpm    5.0  \n",
       "8127  1396 CC      70 bhp  140Nm@ 1800-3000rpm    5.0  \n",
       "\n",
       "[1202 rows x 13 columns]"
      ]
     },
     "execution_count": 12,
     "metadata": {},
     "output_type": "execute_result"
    }
   ],
   "source": [
    "duplicate = df_car[df_car.duplicated()]\n",
    "print(\"Duplicated Rows:\")\n",
    "duplicate"
   ]
  },
  {
   "cell_type": "code",
   "execution_count": 17,
   "id": "1686a68d",
   "metadata": {},
   "outputs": [
    {
     "data": {
      "text/html": [
       "<div>\n",
       "<style scoped>\n",
       "    .dataframe tbody tr th:only-of-type {\n",
       "        vertical-align: middle;\n",
       "    }\n",
       "\n",
       "    .dataframe tbody tr th {\n",
       "        vertical-align: top;\n",
       "    }\n",
       "\n",
       "    .dataframe thead th {\n",
       "        text-align: right;\n",
       "    }\n",
       "</style>\n",
       "<table border=\"1\" class=\"dataframe\">\n",
       "  <thead>\n",
       "    <tr style=\"text-align: right;\">\n",
       "      <th></th>\n",
       "      <th>year</th>\n",
       "      <th>selling_price</th>\n",
       "      <th>km_driven</th>\n",
       "      <th>seats</th>\n",
       "    </tr>\n",
       "  </thead>\n",
       "  <tbody>\n",
       "    <tr>\n",
       "      <th>count</th>\n",
       "      <td>8128.000000</td>\n",
       "      <td>8.128000e+03</td>\n",
       "      <td>8.128000e+03</td>\n",
       "      <td>7907.000000</td>\n",
       "    </tr>\n",
       "    <tr>\n",
       "      <th>mean</th>\n",
       "      <td>2013.804011</td>\n",
       "      <td>6.382718e+05</td>\n",
       "      <td>6.981951e+04</td>\n",
       "      <td>5.416719</td>\n",
       "    </tr>\n",
       "    <tr>\n",
       "      <th>std</th>\n",
       "      <td>4.044249</td>\n",
       "      <td>8.062534e+05</td>\n",
       "      <td>5.655055e+04</td>\n",
       "      <td>0.959588</td>\n",
       "    </tr>\n",
       "    <tr>\n",
       "      <th>min</th>\n",
       "      <td>1983.000000</td>\n",
       "      <td>2.999900e+04</td>\n",
       "      <td>1.000000e+00</td>\n",
       "      <td>2.000000</td>\n",
       "    </tr>\n",
       "    <tr>\n",
       "      <th>25%</th>\n",
       "      <td>2011.000000</td>\n",
       "      <td>2.549990e+05</td>\n",
       "      <td>3.500000e+04</td>\n",
       "      <td>5.000000</td>\n",
       "    </tr>\n",
       "    <tr>\n",
       "      <th>50%</th>\n",
       "      <td>2015.000000</td>\n",
       "      <td>4.500000e+05</td>\n",
       "      <td>6.000000e+04</td>\n",
       "      <td>5.000000</td>\n",
       "    </tr>\n",
       "    <tr>\n",
       "      <th>75%</th>\n",
       "      <td>2017.000000</td>\n",
       "      <td>6.750000e+05</td>\n",
       "      <td>9.800000e+04</td>\n",
       "      <td>5.000000</td>\n",
       "    </tr>\n",
       "    <tr>\n",
       "      <th>max</th>\n",
       "      <td>2020.000000</td>\n",
       "      <td>1.000000e+07</td>\n",
       "      <td>2.360457e+06</td>\n",
       "      <td>14.000000</td>\n",
       "    </tr>\n",
       "  </tbody>\n",
       "</table>\n",
       "</div>"
      ],
      "text/plain": [
       "              year  selling_price     km_driven        seats\n",
       "count  8128.000000   8.128000e+03  8.128000e+03  7907.000000\n",
       "mean   2013.804011   6.382718e+05  6.981951e+04     5.416719\n",
       "std       4.044249   8.062534e+05  5.655055e+04     0.959588\n",
       "min    1983.000000   2.999900e+04  1.000000e+00     2.000000\n",
       "25%    2011.000000   2.549990e+05  3.500000e+04     5.000000\n",
       "50%    2015.000000   4.500000e+05  6.000000e+04     5.000000\n",
       "75%    2017.000000   6.750000e+05  9.800000e+04     5.000000\n",
       "max    2020.000000   1.000000e+07  2.360457e+06    14.000000"
      ]
     },
     "execution_count": 17,
     "metadata": {},
     "output_type": "execute_result"
    }
   ],
   "source": [
    "df_car.describe()"
   ]
  },
  {
   "cell_type": "code",
   "execution_count": 132,
   "id": "1b9cbf64",
   "metadata": {},
   "outputs": [
    {
     "data": {
      "text/plain": [
       "(7906, 11)"
      ]
     },
     "execution_count": 132,
     "metadata": {},
     "output_type": "execute_result"
    }
   ],
   "source": [
    "df_car.shape"
   ]
  },
  {
   "cell_type": "code",
   "execution_count": 134,
   "id": "a0c9e1c4",
   "metadata": {},
   "outputs": [
    {
     "data": {
      "text/plain": [
       "year            0\n",
       "km_driven       0\n",
       "fuel            0\n",
       "seller_type     0\n",
       "transmission    0\n",
       "owner           0\n",
       "mileage         0\n",
       "engine          0\n",
       "max_power       0\n",
       "torque          0\n",
       "seats           0\n",
       "dtype: int64"
      ]
     },
     "execution_count": 134,
     "metadata": {},
     "output_type": "execute_result"
    }
   ],
   "source": [
    "# no of dropped rows\n",
    "df_car.isnull().sum()"
   ]
  },
  {
   "cell_type": "code",
   "execution_count": 138,
   "id": "8ce7d700",
   "metadata": {},
   "outputs": [
    {
     "data": {
      "text/plain": [
       "1667"
      ]
     },
     "execution_count": 138,
     "metadata": {},
     "output_type": "execute_result"
    }
   ],
   "source": [
    "# duplicate data\n",
    "df_car.duplicated().sum()"
   ]
  },
  {
   "cell_type": "markdown",
   "id": "49abbd6b",
   "metadata": {},
   "source": [
    "## Observation\n",
    "# 1. Missing values in some cols\n",
    "# 2. Seats is float should be int\n",
    "# 3. more than 1000 rows are duplicates\n",
    "# 4. Outliers in year,selling price,seats\n",
    "# 5. Torque,engine,mileage and max_power have unnecceary units"
   ]
  },
  {
   "cell_type": "code",
   "execution_count": 139,
   "id": "ea58a476",
   "metadata": {},
   "outputs": [],
   "source": [
    "# drop any row with missing values\n",
    "df_car.dropna(inplace=True)"
   ]
  },
  {
   "cell_type": "code",
   "execution_count": 140,
   "id": "4c4300e2",
   "metadata": {},
   "outputs": [
    {
     "data": {
      "text/plain": [
       "(7906, 11)"
      ]
     },
     "execution_count": 140,
     "metadata": {},
     "output_type": "execute_result"
    }
   ],
   "source": [
    "df_car.shape"
   ]
  },
  {
   "cell_type": "code",
   "execution_count": 141,
   "id": "d7275914",
   "metadata": {},
   "outputs": [
    {
     "data": {
      "text/plain": [
       "year            0\n",
       "km_driven       0\n",
       "fuel            0\n",
       "seller_type     0\n",
       "transmission    0\n",
       "owner           0\n",
       "mileage         0\n",
       "engine          0\n",
       "max_power       0\n",
       "torque          0\n",
       "seats           0\n",
       "dtype: int64"
      ]
     },
     "execution_count": 141,
     "metadata": {},
     "output_type": "execute_result"
    }
   ],
   "source": [
    "df_car.isnull().sum()"
   ]
  },
  {
   "cell_type": "code",
   "execution_count": 143,
   "id": "429f0808",
   "metadata": {},
   "outputs": [],
   "source": [
    "# remove duplicate rows\n",
    "df_car = df_car.drop_duplicates(keep='first')"
   ]
  },
  {
   "cell_type": "code",
   "execution_count": 144,
   "id": "f2ec0e8f",
   "metadata": {},
   "outputs": [
    {
     "data": {
      "text/plain": [
       "(6239, 11)"
      ]
     },
     "execution_count": 144,
     "metadata": {},
     "output_type": "execute_result"
    }
   ],
   "source": [
    "df_car.shape"
   ]
  },
  {
   "cell_type": "code",
   "execution_count": 145,
   "id": "ecd39e1e",
   "metadata": {},
   "outputs": [
    {
     "data": {
      "text/plain": [
       "0"
      ]
     },
     "execution_count": 145,
     "metadata": {},
     "output_type": "execute_result"
    }
   ],
   "source": [
    "df_car.duplicated().sum()"
   ]
  },
  {
   "cell_type": "code",
   "execution_count": 146,
   "id": "e84aa882",
   "metadata": {},
   "outputs": [],
   "source": [
    "# change data type of seats col\n",
    "df_car['seats'] = df_car['seats'].astype('int32')"
   ]
  },
  {
   "cell_type": "code",
   "execution_count": 147,
   "id": "39ad3d02",
   "metadata": {},
   "outputs": [],
   "source": [
    "# Handling mileage col\n",
    "df_car['mileage'] = df_car['mileage'].str.split(expand=True)[0]\n",
    "df_car['mileage'] = df_car['mileage'].astype('float64')"
   ]
  },
  {
   "cell_type": "code",
   "execution_count": 148,
   "id": "b9abc9e5",
   "metadata": {},
   "outputs": [],
   "source": [
    "# Handling engine col\n",
    "df_car['engine'] = df_car['engine'].str.split(expand=True)[0]\n",
    "df_car['engine'] = df_car['engine'].astype('int32')"
   ]
  },
  {
   "cell_type": "code",
   "execution_count": 149,
   "id": "bb56e865",
   "metadata": {},
   "outputs": [],
   "source": [
    "# Handling max_power col\n",
    "df_car['max_power'] = df_car['max_power'].str.split(expand=True)[0]\n",
    "df_car['max_power'] = df_car['max_power'].astype('float64')"
   ]
  },
  {
   "cell_type": "code",
   "execution_count": 150,
   "id": "e74b7ef9",
   "metadata": {},
   "outputs": [
    {
     "data": {
      "text/html": [
       "<div>\n",
       "<style scoped>\n",
       "    .dataframe tbody tr th:only-of-type {\n",
       "        vertical-align: middle;\n",
       "    }\n",
       "\n",
       "    .dataframe tbody tr th {\n",
       "        vertical-align: top;\n",
       "    }\n",
       "\n",
       "    .dataframe thead th {\n",
       "        text-align: right;\n",
       "    }\n",
       "</style>\n",
       "<table border=\"1\" class=\"dataframe\">\n",
       "  <thead>\n",
       "    <tr style=\"text-align: right;\">\n",
       "      <th></th>\n",
       "      <th>year</th>\n",
       "      <th>km_driven</th>\n",
       "      <th>fuel</th>\n",
       "      <th>seller_type</th>\n",
       "      <th>transmission</th>\n",
       "      <th>owner</th>\n",
       "      <th>mileage</th>\n",
       "      <th>engine</th>\n",
       "      <th>max_power</th>\n",
       "      <th>torque</th>\n",
       "      <th>seats</th>\n",
       "    </tr>\n",
       "  </thead>\n",
       "  <tbody>\n",
       "    <tr>\n",
       "      <th>0</th>\n",
       "      <td>2014</td>\n",
       "      <td>145500</td>\n",
       "      <td>Diesel</td>\n",
       "      <td>Individual</td>\n",
       "      <td>Manual</td>\n",
       "      <td>First Owner</td>\n",
       "      <td>23.40</td>\n",
       "      <td>1248</td>\n",
       "      <td>74.00</td>\n",
       "      <td>190Nm@ 2000rpm</td>\n",
       "      <td>5</td>\n",
       "    </tr>\n",
       "    <tr>\n",
       "      <th>1</th>\n",
       "      <td>2014</td>\n",
       "      <td>120000</td>\n",
       "      <td>Diesel</td>\n",
       "      <td>Individual</td>\n",
       "      <td>Manual</td>\n",
       "      <td>Second Owner</td>\n",
       "      <td>21.14</td>\n",
       "      <td>1498</td>\n",
       "      <td>103.52</td>\n",
       "      <td>250Nm@ 1500-2500rpm</td>\n",
       "      <td>5</td>\n",
       "    </tr>\n",
       "    <tr>\n",
       "      <th>2</th>\n",
       "      <td>2006</td>\n",
       "      <td>140000</td>\n",
       "      <td>Petrol</td>\n",
       "      <td>Individual</td>\n",
       "      <td>Manual</td>\n",
       "      <td>Third Owner</td>\n",
       "      <td>17.70</td>\n",
       "      <td>1497</td>\n",
       "      <td>78.00</td>\n",
       "      <td>12.7@ 2,700(kgm@ rpm)</td>\n",
       "      <td>5</td>\n",
       "    </tr>\n",
       "    <tr>\n",
       "      <th>3</th>\n",
       "      <td>2010</td>\n",
       "      <td>127000</td>\n",
       "      <td>Diesel</td>\n",
       "      <td>Individual</td>\n",
       "      <td>Manual</td>\n",
       "      <td>First Owner</td>\n",
       "      <td>23.00</td>\n",
       "      <td>1396</td>\n",
       "      <td>90.00</td>\n",
       "      <td>22.4 kgm at 1750-2750rpm</td>\n",
       "      <td>5</td>\n",
       "    </tr>\n",
       "    <tr>\n",
       "      <th>4</th>\n",
       "      <td>2007</td>\n",
       "      <td>120000</td>\n",
       "      <td>Petrol</td>\n",
       "      <td>Individual</td>\n",
       "      <td>Manual</td>\n",
       "      <td>First Owner</td>\n",
       "      <td>16.10</td>\n",
       "      <td>1298</td>\n",
       "      <td>88.20</td>\n",
       "      <td>11.5@ 4,500(kgm@ rpm)</td>\n",
       "      <td>5</td>\n",
       "    </tr>\n",
       "  </tbody>\n",
       "</table>\n",
       "</div>"
      ],
      "text/plain": [
       "   year  km_driven    fuel seller_type transmission         owner  mileage  \\\n",
       "0  2014     145500  Diesel  Individual       Manual   First Owner    23.40   \n",
       "1  2014     120000  Diesel  Individual       Manual  Second Owner    21.14   \n",
       "2  2006     140000  Petrol  Individual       Manual   Third Owner    17.70   \n",
       "3  2010     127000  Diesel  Individual       Manual   First Owner    23.00   \n",
       "4  2007     120000  Petrol  Individual       Manual   First Owner    16.10   \n",
       "\n",
       "   engine  max_power                    torque  seats  \n",
       "0    1248      74.00            190Nm@ 2000rpm      5  \n",
       "1    1498     103.52       250Nm@ 1500-2500rpm      5  \n",
       "2    1497      78.00     12.7@ 2,700(kgm@ rpm)      5  \n",
       "3    1396      90.00  22.4 kgm at 1750-2750rpm      5  \n",
       "4    1298      88.20     11.5@ 4,500(kgm@ rpm)      5  "
      ]
     },
     "execution_count": 150,
     "metadata": {},
     "output_type": "execute_result"
    }
   ],
   "source": [
    "df_car.head()"
   ]
  },
  {
   "cell_type": "code",
   "execution_count": 151,
   "id": "5ca21c9a",
   "metadata": {},
   "outputs": [],
   "source": [
    "# dropping the torque col\n",
    "df_car.drop(columns=['torque'],inplace=True)"
   ]
  },
  {
   "cell_type": "code",
   "execution_count": 152,
   "id": "ca4afde6",
   "metadata": {},
   "outputs": [
    {
     "data": {
      "text/html": [
       "<div>\n",
       "<style scoped>\n",
       "    .dataframe tbody tr th:only-of-type {\n",
       "        vertical-align: middle;\n",
       "    }\n",
       "\n",
       "    .dataframe tbody tr th {\n",
       "        vertical-align: top;\n",
       "    }\n",
       "\n",
       "    .dataframe thead th {\n",
       "        text-align: right;\n",
       "    }\n",
       "</style>\n",
       "<table border=\"1\" class=\"dataframe\">\n",
       "  <thead>\n",
       "    <tr style=\"text-align: right;\">\n",
       "      <th></th>\n",
       "      <th>year</th>\n",
       "      <th>km_driven</th>\n",
       "      <th>fuel</th>\n",
       "      <th>seller_type</th>\n",
       "      <th>transmission</th>\n",
       "      <th>owner</th>\n",
       "      <th>mileage</th>\n",
       "      <th>engine</th>\n",
       "      <th>max_power</th>\n",
       "      <th>seats</th>\n",
       "    </tr>\n",
       "  </thead>\n",
       "  <tbody>\n",
       "    <tr>\n",
       "      <th>0</th>\n",
       "      <td>2014</td>\n",
       "      <td>145500</td>\n",
       "      <td>Diesel</td>\n",
       "      <td>Individual</td>\n",
       "      <td>Manual</td>\n",
       "      <td>First Owner</td>\n",
       "      <td>23.40</td>\n",
       "      <td>1248</td>\n",
       "      <td>74.00</td>\n",
       "      <td>5</td>\n",
       "    </tr>\n",
       "    <tr>\n",
       "      <th>1</th>\n",
       "      <td>2014</td>\n",
       "      <td>120000</td>\n",
       "      <td>Diesel</td>\n",
       "      <td>Individual</td>\n",
       "      <td>Manual</td>\n",
       "      <td>Second Owner</td>\n",
       "      <td>21.14</td>\n",
       "      <td>1498</td>\n",
       "      <td>103.52</td>\n",
       "      <td>5</td>\n",
       "    </tr>\n",
       "    <tr>\n",
       "      <th>2</th>\n",
       "      <td>2006</td>\n",
       "      <td>140000</td>\n",
       "      <td>Petrol</td>\n",
       "      <td>Individual</td>\n",
       "      <td>Manual</td>\n",
       "      <td>Third Owner</td>\n",
       "      <td>17.70</td>\n",
       "      <td>1497</td>\n",
       "      <td>78.00</td>\n",
       "      <td>5</td>\n",
       "    </tr>\n",
       "    <tr>\n",
       "      <th>3</th>\n",
       "      <td>2010</td>\n",
       "      <td>127000</td>\n",
       "      <td>Diesel</td>\n",
       "      <td>Individual</td>\n",
       "      <td>Manual</td>\n",
       "      <td>First Owner</td>\n",
       "      <td>23.00</td>\n",
       "      <td>1396</td>\n",
       "      <td>90.00</td>\n",
       "      <td>5</td>\n",
       "    </tr>\n",
       "    <tr>\n",
       "      <th>4</th>\n",
       "      <td>2007</td>\n",
       "      <td>120000</td>\n",
       "      <td>Petrol</td>\n",
       "      <td>Individual</td>\n",
       "      <td>Manual</td>\n",
       "      <td>First Owner</td>\n",
       "      <td>16.10</td>\n",
       "      <td>1298</td>\n",
       "      <td>88.20</td>\n",
       "      <td>5</td>\n",
       "    </tr>\n",
       "  </tbody>\n",
       "</table>\n",
       "</div>"
      ],
      "text/plain": [
       "   year  km_driven    fuel seller_type transmission         owner  mileage  \\\n",
       "0  2014     145500  Diesel  Individual       Manual   First Owner    23.40   \n",
       "1  2014     120000  Diesel  Individual       Manual  Second Owner    21.14   \n",
       "2  2006     140000  Petrol  Individual       Manual   Third Owner    17.70   \n",
       "3  2010     127000  Diesel  Individual       Manual   First Owner    23.00   \n",
       "4  2007     120000  Petrol  Individual       Manual   First Owner    16.10   \n",
       "\n",
       "   engine  max_power  seats  \n",
       "0    1248      74.00      5  \n",
       "1    1498     103.52      5  \n",
       "2    1497      78.00      5  \n",
       "3    1396      90.00      5  \n",
       "4    1298      88.20      5  "
      ]
     },
     "execution_count": 152,
     "metadata": {},
     "output_type": "execute_result"
    }
   ],
   "source": [
    "df_car.head()"
   ]
  },
  {
   "cell_type": "code",
   "execution_count": 154,
   "id": "6b978c9c",
   "metadata": {},
   "outputs": [
    {
     "data": {
      "text/plain": [
       "(5,)"
      ]
     },
     "execution_count": 154,
     "metadata": {},
     "output_type": "execute_result"
    }
   ],
   "source": [
    "df_car['owner'].unique().shape"
   ]
  },
  {
   "cell_type": "code",
   "execution_count": 158,
   "id": "502b88f6",
   "metadata": {},
   "outputs": [
    {
     "data": {
      "text/html": [
       "<div>\n",
       "<style scoped>\n",
       "    .dataframe tbody tr th:only-of-type {\n",
       "        vertical-align: middle;\n",
       "    }\n",
       "\n",
       "    .dataframe tbody tr th {\n",
       "        vertical-align: top;\n",
       "    }\n",
       "\n",
       "    .dataframe thead th {\n",
       "        text-align: right;\n",
       "    }\n",
       "</style>\n",
       "<table border=\"1\" class=\"dataframe\">\n",
       "  <thead>\n",
       "    <tr style=\"text-align: right;\">\n",
       "      <th></th>\n",
       "      <th>year</th>\n",
       "      <th>km_driven</th>\n",
       "      <th>fuel</th>\n",
       "      <th>seller_type</th>\n",
       "      <th>transmission</th>\n",
       "      <th>mileage</th>\n",
       "      <th>engine</th>\n",
       "      <th>max_power</th>\n",
       "      <th>seats</th>\n",
       "    </tr>\n",
       "  </thead>\n",
       "  <tbody>\n",
       "    <tr>\n",
       "      <th>0</th>\n",
       "      <td>2014</td>\n",
       "      <td>145500</td>\n",
       "      <td>Diesel</td>\n",
       "      <td>Individual</td>\n",
       "      <td>Manual</td>\n",
       "      <td>23.40</td>\n",
       "      <td>1248</td>\n",
       "      <td>74.00</td>\n",
       "      <td>5</td>\n",
       "    </tr>\n",
       "    <tr>\n",
       "      <th>1</th>\n",
       "      <td>2014</td>\n",
       "      <td>120000</td>\n",
       "      <td>Diesel</td>\n",
       "      <td>Individual</td>\n",
       "      <td>Manual</td>\n",
       "      <td>21.14</td>\n",
       "      <td>1498</td>\n",
       "      <td>103.52</td>\n",
       "      <td>5</td>\n",
       "    </tr>\n",
       "    <tr>\n",
       "      <th>2</th>\n",
       "      <td>2006</td>\n",
       "      <td>140000</td>\n",
       "      <td>Petrol</td>\n",
       "      <td>Individual</td>\n",
       "      <td>Manual</td>\n",
       "      <td>17.70</td>\n",
       "      <td>1497</td>\n",
       "      <td>78.00</td>\n",
       "      <td>5</td>\n",
       "    </tr>\n",
       "    <tr>\n",
       "      <th>3</th>\n",
       "      <td>2010</td>\n",
       "      <td>127000</td>\n",
       "      <td>Diesel</td>\n",
       "      <td>Individual</td>\n",
       "      <td>Manual</td>\n",
       "      <td>23.00</td>\n",
       "      <td>1396</td>\n",
       "      <td>90.00</td>\n",
       "      <td>5</td>\n",
       "    </tr>\n",
       "    <tr>\n",
       "      <th>4</th>\n",
       "      <td>2007</td>\n",
       "      <td>120000</td>\n",
       "      <td>Petrol</td>\n",
       "      <td>Individual</td>\n",
       "      <td>Manual</td>\n",
       "      <td>16.10</td>\n",
       "      <td>1298</td>\n",
       "      <td>88.20</td>\n",
       "      <td>5</td>\n",
       "    </tr>\n",
       "  </tbody>\n",
       "</table>\n",
       "</div>"
      ],
      "text/plain": [
       "   year  km_driven    fuel seller_type transmission  mileage  engine  \\\n",
       "0  2014     145500  Diesel  Individual       Manual    23.40    1248   \n",
       "1  2014     120000  Diesel  Individual       Manual    21.14    1498   \n",
       "2  2006     140000  Petrol  Individual       Manual    17.70    1497   \n",
       "3  2010     127000  Diesel  Individual       Manual    23.00    1396   \n",
       "4  2007     120000  Petrol  Individual       Manual    16.10    1298   \n",
       "\n",
       "   max_power  seats  \n",
       "0      74.00      5  \n",
       "1     103.52      5  \n",
       "2      78.00      5  \n",
       "3      90.00      5  \n",
       "4      88.20      5  "
      ]
     },
     "execution_count": 158,
     "metadata": {},
     "output_type": "execute_result"
    }
   ],
   "source": [
    "df_car.drop(columns=['owner'],inplace=True)\n",
    "df_car.head()\n"
   ]
  },
  {
   "cell_type": "code",
   "execution_count": 210,
   "id": "c5236c26",
   "metadata": {},
   "outputs": [],
   "source": [
    "freq_fuel = ['Diesel','Petrol']\n",
    "df_car = df_car[df_car['fuel'].isin(freq_fuel)]"
   ]
  },
  {
   "cell_type": "code",
   "execution_count": 212,
   "id": "5ce97b87",
   "metadata": {},
   "outputs": [
    {
     "data": {
      "text/plain": [
       "Individual          5466\n",
       "Dealer               661\n",
       "Trustmark Dealer      27\n",
       "Name: seller_type, dtype: int64"
      ]
     },
     "execution_count": 212,
     "metadata": {},
     "output_type": "execute_result"
    }
   ],
   "source": [
    "df_car['seller_type'].value_counts()"
   ]
  },
  {
   "cell_type": "code",
   "execution_count": 213,
   "id": "229ddabf",
   "metadata": {},
   "outputs": [],
   "source": [
    "df_car = df_car[df_car['seller_type'].isin(['Individual','Dealer'])]"
   ]
  },
  {
   "cell_type": "code",
   "execution_count": 214,
   "id": "04331f49",
   "metadata": {},
   "outputs": [],
   "source": [
    "df_car = df_car[df_car['year'].isin(['fuel','engine','seats'])]"
   ]
  },
  {
   "cell_type": "code",
   "execution_count": 215,
   "id": "ee8cc24e",
   "metadata": {},
   "outputs": [
    {
     "data": {
      "text/plain": [
       "(0, 9)"
      ]
     },
     "execution_count": 215,
     "metadata": {},
     "output_type": "execute_result"
    }
   ],
   "source": [
    "df_car.shape"
   ]
  },
  {
   "cell_type": "code",
   "execution_count": 217,
   "id": "3a1d52a4",
   "metadata": {},
   "outputs": [
    {
     "data": {
      "text/plain": [
       "<AxesSubplot:xlabel='km_driven'>"
      ]
     },
     "execution_count": 217,
     "metadata": {},
     "output_type": "execute_result"
    },
    {
     "data": {
      "image/png": "[encoded data removed]",
      "text/plain": [
       "<Figure size 432x288 with 1 Axes>"
      ]
     },
     "metadata": {
      "needs_background": "light"
     },
     "output_type": "display_data"
    }
   ],
   "source": [
    "sns.boxplot(df_car['km_driven'])"
   ]
  },
  {
   "cell_type": "code",
   "execution_count": 219,
   "id": "ad1d76df",
   "metadata": {},
   "outputs": [],
   "source": [
    "q1 = df_car['km_driven'].quantile(0.25)\n",
    "q3 = df_car['km_driven'].quantile(0.75)\n",
    "iqr = q3 - q1"
   ]
  },
  {
   "cell_type": "code",
   "execution_count": 220,
   "id": "74ef8141",
   "metadata": {},
   "outputs": [],
   "source": [
    "max_val_km_driven = q3 + 1.5*iqr"
   ]
  },
  {
   "cell_type": "code",
   "execution_count": 221,
   "id": "bf910882",
   "metadata": {},
   "outputs": [
    {
     "data": {
      "text/plain": [
       "nan"
      ]
     },
     "execution_count": 221,
     "metadata": {},
     "output_type": "execute_result"
    }
   ],
   "source": [
    "max_val_km_driven"
   ]
  },
  {
   "cell_type": "code",
   "execution_count": 223,
   "id": "2a57a8ae",
   "metadata": {},
   "outputs": [
    {
     "data": {
      "text/html": [
       "<div>\n",
       "<style scoped>\n",
       "    .dataframe tbody tr th:only-of-type {\n",
       "        vertical-align: middle;\n",
       "    }\n",
       "\n",
       "    .dataframe tbody tr th {\n",
       "        vertical-align: top;\n",
       "    }\n",
       "\n",
       "    .dataframe thead th {\n",
       "        text-align: right;\n",
       "    }\n",
       "</style>\n",
       "<table border=\"1\" class=\"dataframe\">\n",
       "  <thead>\n",
       "    <tr style=\"text-align: right;\">\n",
       "      <th></th>\n",
       "      <th>year</th>\n",
       "      <th>km_driven</th>\n",
       "      <th>fuel</th>\n",
       "      <th>seller_type</th>\n",
       "      <th>transmission</th>\n",
       "      <th>mileage</th>\n",
       "      <th>engine</th>\n",
       "      <th>max_power</th>\n",
       "      <th>seats</th>\n",
       "    </tr>\n",
       "  </thead>\n",
       "  <tbody>\n",
       "  </tbody>\n",
       "</table>\n",
       "</div>"
      ],
      "text/plain": [
       "Empty DataFrame\n",
       "Columns: [year, km_driven, fuel, seller_type, transmission, mileage, engine, max_power, seats]\n",
       "Index: []"
      ]
     },
     "execution_count": 223,
     "metadata": {},
     "output_type": "execute_result"
    }
   ],
   "source": [
    "df_car.head()"
   ]
  },
  {
   "cell_type": "code",
   "execution_count": 224,
   "id": "33b380b6",
   "metadata": {},
   "outputs": [],
   "source": [
    "df_car['km_driven'] = np.where(df_car['km_driven']>max_val_km_driven,max_val_km_driven,df_car['km_driven'])"
   ]
  },
  {
   "cell_type": "code",
   "execution_count": 225,
   "id": "1e33cba0",
   "metadata": {},
   "outputs": [
    {
     "data": {
      "text/plain": [
       "<AxesSubplot:xlabel='year'>"
      ]
     },
     "execution_count": 225,
     "metadata": {},
     "output_type": "execute_result"
    },
    {
     "data": {
      "image/png": "[encoded data removed]",
      "text/plain": [
       "<Figure size 432x288 with 1 Axes>"
      ]
     },
     "metadata": {
      "needs_background": "light"
     },
     "output_type": "display_data"
    }
   ],
   "source": [
    "sns.boxplot(df_car['year'])"
   ]
  },
  {
   "cell_type": "code",
   "execution_count": 227,
   "id": "cbd85741",
   "metadata": {},
   "outputs": [],
   "source": [
    "df_car = df_car[df_car['year'] >= 2000]"
   ]
  },
  {
   "cell_type": "code",
   "execution_count": 180,
   "id": "76ed209d",
   "metadata": {},
   "outputs": [
    {
     "data": {
      "text/plain": [
       "<AxesSubplot:xlabel='mileage'>"
      ]
     },
     "execution_count": 180,
     "metadata": {},
     "output_type": "execute_result"
    },
    {
     "data": {
      "image/png": "[encoded data removed]",
      "text/plain": [
       "<Figure size 432x288 with 1 Axes>"
      ]
     },
     "metadata": {
      "needs_background": "light"
     },
     "output_type": "display_data"
    }
   ],
   "source": [
    "sns.boxplot(df_car['mileage'])"
   ]
  },
  {
   "cell_type": "code",
   "execution_count": 181,
   "id": "2a9122a0",
   "metadata": {},
   "outputs": [
    {
     "data": {
      "text/plain": [
       "19.3"
      ]
     },
     "execution_count": 181,
     "metadata": {},
     "output_type": "execute_result"
    }
   ],
   "source": [
    "mean_mileage = df_car[df_car['mileage'] !=0]['mileage'].median()\n",
    "mean_mileage"
   ]
  },
  {
   "cell_type": "code",
   "execution_count": 184,
   "id": "e67b2260",
   "metadata": {},
   "outputs": [],
   "source": [
    "df_car['mileage'] = np.where(df_car['mileage'] == 0,mean_mileage,df_car['mileage'])"
   ]
  },
  {
   "cell_type": "code",
   "execution_count": 185,
   "id": "5f615777",
   "metadata": {},
   "outputs": [
    {
     "data": {
      "text/plain": [
       "(6239, 9)"
      ]
     },
     "execution_count": 185,
     "metadata": {},
     "output_type": "execute_result"
    }
   ],
   "source": [
    "df_car.shape"
   ]
  },
  {
   "cell_type": "code",
   "execution_count": 186,
   "id": "ef8ad62a",
   "metadata": {},
   "outputs": [
    {
     "data": {
      "text/html": [
       "<div>\n",
       "<style scoped>\n",
       "    .dataframe tbody tr th:only-of-type {\n",
       "        vertical-align: middle;\n",
       "    }\n",
       "\n",
       "    .dataframe tbody tr th {\n",
       "        vertical-align: top;\n",
       "    }\n",
       "\n",
       "    .dataframe thead th {\n",
       "        text-align: right;\n",
       "    }\n",
       "</style>\n",
       "<table border=\"1\" class=\"dataframe\">\n",
       "  <thead>\n",
       "    <tr style=\"text-align: right;\">\n",
       "      <th></th>\n",
       "      <th>year</th>\n",
       "      <th>km_driven</th>\n",
       "      <th>fuel</th>\n",
       "      <th>seller_type</th>\n",
       "      <th>transmission</th>\n",
       "      <th>mileage</th>\n",
       "      <th>engine</th>\n",
       "      <th>max_power</th>\n",
       "      <th>seats</th>\n",
       "    </tr>\n",
       "  </thead>\n",
       "  <tbody>\n",
       "    <tr>\n",
       "      <th>0</th>\n",
       "      <td>2014</td>\n",
       "      <td>145500</td>\n",
       "      <td>Diesel</td>\n",
       "      <td>Individual</td>\n",
       "      <td>Manual</td>\n",
       "      <td>23.40</td>\n",
       "      <td>1248</td>\n",
       "      <td>74.00</td>\n",
       "      <td>5</td>\n",
       "    </tr>\n",
       "    <tr>\n",
       "      <th>1</th>\n",
       "      <td>2014</td>\n",
       "      <td>120000</td>\n",
       "      <td>Diesel</td>\n",
       "      <td>Individual</td>\n",
       "      <td>Manual</td>\n",
       "      <td>21.14</td>\n",
       "      <td>1498</td>\n",
       "      <td>103.52</td>\n",
       "      <td>5</td>\n",
       "    </tr>\n",
       "    <tr>\n",
       "      <th>2</th>\n",
       "      <td>2006</td>\n",
       "      <td>140000</td>\n",
       "      <td>Petrol</td>\n",
       "      <td>Individual</td>\n",
       "      <td>Manual</td>\n",
       "      <td>17.70</td>\n",
       "      <td>1497</td>\n",
       "      <td>78.00</td>\n",
       "      <td>5</td>\n",
       "    </tr>\n",
       "    <tr>\n",
       "      <th>3</th>\n",
       "      <td>2010</td>\n",
       "      <td>127000</td>\n",
       "      <td>Diesel</td>\n",
       "      <td>Individual</td>\n",
       "      <td>Manual</td>\n",
       "      <td>23.00</td>\n",
       "      <td>1396</td>\n",
       "      <td>90.00</td>\n",
       "      <td>5</td>\n",
       "    </tr>\n",
       "    <tr>\n",
       "      <th>4</th>\n",
       "      <td>2007</td>\n",
       "      <td>120000</td>\n",
       "      <td>Petrol</td>\n",
       "      <td>Individual</td>\n",
       "      <td>Manual</td>\n",
       "      <td>16.10</td>\n",
       "      <td>1298</td>\n",
       "      <td>88.20</td>\n",
       "      <td>5</td>\n",
       "    </tr>\n",
       "  </tbody>\n",
       "</table>\n",
       "</div>"
      ],
      "text/plain": [
       "   year  km_driven    fuel seller_type transmission  mileage  engine  \\\n",
       "0  2014     145500  Diesel  Individual       Manual    23.40    1248   \n",
       "1  2014     120000  Diesel  Individual       Manual    21.14    1498   \n",
       "2  2006     140000  Petrol  Individual       Manual    17.70    1497   \n",
       "3  2010     127000  Diesel  Individual       Manual    23.00    1396   \n",
       "4  2007     120000  Petrol  Individual       Manual    16.10    1298   \n",
       "\n",
       "   max_power  seats  \n",
       "0      74.00      5  \n",
       "1     103.52      5  \n",
       "2      78.00      5  \n",
       "3      90.00      5  \n",
       "4      88.20      5  "
      ]
     },
     "execution_count": 186,
     "metadata": {},
     "output_type": "execute_result"
    }
   ],
   "source": [
    "df_car.head()"
   ]
  },
  {
   "cell_type": "code",
   "execution_count": 189,
   "id": "7ef8bdd4",
   "metadata": {},
   "outputs": [],
   "source": [
    "X = df_car.drop(columns=['seller_type'])\n",
    "y = df_car['max_power']\n",
    "from sklearn.model_selection import train_test_split\n",
    "X_train,X_test,y_train,y_test = train_test_split(X,y,test_size=0.2,random_state=2)"
   ]
  },
  {
   "cell_type": "code",
   "execution_count": 190,
   "id": "7333f836",
   "metadata": {},
   "outputs": [],
   "source": [
    "# Ordinal encoding on Owner col\n",
    "from sklearn.preprocessing import OrdinalEncoder,OneHotEncoder\n",
    "from sklearn.compose import ColumnTransformer"
   ]
  },
  {
   "cell_type": "code",
   "execution_count": 198,
   "id": "666985dc",
   "metadata": {},
   "outputs": [],
   "source": [
    "tnf = ColumnTransformer(\n",
    "    [\n",
    "        ('ordinal',OrdinalEncoder(),['owner']),\n",
    "        ('nominal',OneHotEncoder(drop='first',sparse=False),['fuel','seller_type','transmission','seats'])\n",
    "    ], remainder='passthrough'\n",
    ")"
   ]
  },
  {
   "cell_type": "code",
   "execution_count": 199,
   "id": "d1b516f7",
   "metadata": {},
   "outputs": [],
   "source": [
    "#X_train_tnf = tnf.fit_transform(X_train)\n",
    "#X_test_tnf = tnf.transform(X_test)\n",
    "from sklearn.linear_model import LinearRegression"
   ]
  },
  {
   "cell_type": "code",
   "execution_count": 200,
   "id": "a1e7b3ab",
   "metadata": {},
   "outputs": [],
   "source": [
    "lr = LinearRegression()"
   ]
  },
  {
   "cell_type": "code",
   "execution_count": 201,
   "id": "97640962",
   "metadata": {},
   "outputs": [],
   "source": [
    "from sklearn.metrics import r2_score\n",
    "#r2_score(y_test,y_pred)"
   ]
  },
  {
   "cell_type": "code",
   "execution_count": 202,
   "id": "176ab50d",
   "metadata": {},
   "outputs": [],
   "source": [
    "from sklearn.preprocessing import PolynomialFeatures\n",
    "poly = PolynomialFeatures(degree=3)"
   ]
  },
  {
   "cell_type": "code",
   "execution_count": 203,
   "id": "b124fc72",
   "metadata": {},
   "outputs": [],
   "source": [
    "lr = LinearRegression()\n",
    "#lr.fit(X_train_poly,y_train)\n",
    "#y_pred = lr.predict(X_test_poly)\n",
    "#r2_score(y_test,y_pred)"
   ]
  },
  {
   "cell_type": "code",
   "execution_count": 208,
   "id": "cb0b3895",
   "metadata": {},
   "outputs": [
    {
     "data": {
      "text/plain": [
       "Diesel    2746\n",
       "Petrol    2182\n",
       "CNG         39\n",
       "LPG         24\n",
       "Name: fuel, dtype: int64"
      ]
     },
     "execution_count": 208,
     "metadata": {},
     "output_type": "execute_result"
    }
   ],
   "source": [
    "import pickle\n",
    "pickle.dump(pipe,open('pipe.pkl','wb'))\n",
    "X_train['fuel'].value_counts()"
   ]
  },
  {
   "cell_type": "code",
   "execution_count": 206,
   "id": "c775a7cc",
   "metadata": {},
   "outputs": [
    {
     "data": {
      "text/plain": [
       "7469     71.00\n",
       "5927     75.00\n",
       "3294     68.00\n",
       "7121     46.30\n",
       "328      60.00\n",
       "         ...  \n",
       "1284    120.00\n",
       "2948     63.00\n",
       "4484     83.80\n",
       "7334     81.86\n",
       "3018     46.30\n",
       "Name: max_power, Length: 4991, dtype: float64"
      ]
     },
     "execution_count": 206,
     "metadata": {},
     "output_type": "execute_result"
    }
   ],
   "source": [
    "y_train"
   ]
  },
  {
   "cell_type": "code",
   "execution_count": 207,
   "id": "cebab18e",
   "metadata": {},
   "outputs": [
    {
     "data": {
      "text/html": [
       "<div>\n",
       "<style scoped>\n",
       "    .dataframe tbody tr th:only-of-type {\n",
       "        vertical-align: middle;\n",
       "    }\n",
       "\n",
       "    .dataframe tbody tr th {\n",
       "        vertical-align: top;\n",
       "    }\n",
       "\n",
       "    .dataframe thead th {\n",
       "        text-align: right;\n",
       "    }\n",
       "</style>\n",
       "<table border=\"1\" class=\"dataframe\">\n",
       "  <thead>\n",
       "    <tr style=\"text-align: right;\">\n",
       "      <th></th>\n",
       "      <th>year</th>\n",
       "      <th>km_driven</th>\n",
       "      <th>seats</th>\n",
       "      <th>fuel_Diesel</th>\n",
       "      <th>fuel_LPG</th>\n",
       "      <th>fuel_Petrol</th>\n",
       "      <th>seller_type_Individual</th>\n",
       "      <th>seller_type_Trustmark Dealer</th>\n",
       "      <th>transmission_Manual</th>\n",
       "      <th>owner_Fourth &amp; Above Owner</th>\n",
       "      <th>...</th>\n",
       "      <th>torque_96 Nm at 3000 rpm</th>\n",
       "      <th>torque_96.1Nm@ 3000rpm</th>\n",
       "      <th>torque_96Nm@ 2500rpm</th>\n",
       "      <th>torque_96Nm@ 3500rpm</th>\n",
       "      <th>torque_98Nm@ 1600-3000rpm</th>\n",
       "      <th>torque_99.04Nm@ 4500rpm</th>\n",
       "      <th>torque_99.07Nm@ 4500rpm</th>\n",
       "      <th>torque_99.1Nm@ 4500rpm</th>\n",
       "      <th>torque_99.8Nm@ 2700rpm</th>\n",
       "      <th>torque_99Nm@ 4500rpm</th>\n",
       "    </tr>\n",
       "  </thead>\n",
       "  <tbody>\n",
       "    <tr>\n",
       "      <th>3365</th>\n",
       "      <td>2012</td>\n",
       "      <td>90000</td>\n",
       "      <td>NaN</td>\n",
       "      <td>1</td>\n",
       "      <td>0</td>\n",
       "      <td>0</td>\n",
       "      <td>1</td>\n",
       "      <td>0</td>\n",
       "      <td>1</td>\n",
       "      <td>0</td>\n",
       "      <td>...</td>\n",
       "      <td>0</td>\n",
       "      <td>0</td>\n",
       "      <td>0</td>\n",
       "      <td>0</td>\n",
       "      <td>0</td>\n",
       "      <td>0</td>\n",
       "      <td>0</td>\n",
       "      <td>0</td>\n",
       "      <td>0</td>\n",
       "      <td>0</td>\n",
       "    </tr>\n",
       "    <tr>\n",
       "      <th>6948</th>\n",
       "      <td>2014</td>\n",
       "      <td>60000</td>\n",
       "      <td>5.0</td>\n",
       "      <td>0</td>\n",
       "      <td>0</td>\n",
       "      <td>1</td>\n",
       "      <td>1</td>\n",
       "      <td>0</td>\n",
       "      <td>1</td>\n",
       "      <td>0</td>\n",
       "      <td>...</td>\n",
       "      <td>0</td>\n",
       "      <td>0</td>\n",
       "      <td>0</td>\n",
       "      <td>0</td>\n",
       "      <td>0</td>\n",
       "      <td>0</td>\n",
       "      <td>0</td>\n",
       "      <td>0</td>\n",
       "      <td>0</td>\n",
       "      <td>0</td>\n",
       "    </tr>\n",
       "    <tr>\n",
       "      <th>7977</th>\n",
       "      <td>2014</td>\n",
       "      <td>105000</td>\n",
       "      <td>5.0</td>\n",
       "      <td>1</td>\n",
       "      <td>0</td>\n",
       "      <td>0</td>\n",
       "      <td>0</td>\n",
       "      <td>0</td>\n",
       "      <td>1</td>\n",
       "      <td>0</td>\n",
       "      <td>...</td>\n",
       "      <td>0</td>\n",
       "      <td>0</td>\n",
       "      <td>0</td>\n",
       "      <td>0</td>\n",
       "      <td>0</td>\n",
       "      <td>0</td>\n",
       "      <td>0</td>\n",
       "      <td>0</td>\n",
       "      <td>0</td>\n",
       "      <td>0</td>\n",
       "    </tr>\n",
       "    <tr>\n",
       "      <th>6708</th>\n",
       "      <td>2011</td>\n",
       "      <td>110000</td>\n",
       "      <td>7.0</td>\n",
       "      <td>1</td>\n",
       "      <td>0</td>\n",
       "      <td>0</td>\n",
       "      <td>1</td>\n",
       "      <td>0</td>\n",
       "      <td>1</td>\n",
       "      <td>0</td>\n",
       "      <td>...</td>\n",
       "      <td>0</td>\n",
       "      <td>0</td>\n",
       "      <td>0</td>\n",
       "      <td>0</td>\n",
       "      <td>0</td>\n",
       "      <td>0</td>\n",
       "      <td>0</td>\n",
       "      <td>0</td>\n",
       "      <td>0</td>\n",
       "      <td>0</td>\n",
       "    </tr>\n",
       "    <tr>\n",
       "      <th>4652</th>\n",
       "      <td>2014</td>\n",
       "      <td>120000</td>\n",
       "      <td>7.0</td>\n",
       "      <td>1</td>\n",
       "      <td>0</td>\n",
       "      <td>0</td>\n",
       "      <td>1</td>\n",
       "      <td>0</td>\n",
       "      <td>1</td>\n",
       "      <td>0</td>\n",
       "      <td>...</td>\n",
       "      <td>0</td>\n",
       "      <td>0</td>\n",
       "      <td>0</td>\n",
       "      <td>0</td>\n",
       "      <td>0</td>\n",
       "      <td>0</td>\n",
       "      <td>0</td>\n",
       "      <td>0</td>\n",
       "      <td>0</td>\n",
       "      <td>0</td>\n",
       "    </tr>\n",
       "    <tr>\n",
       "      <th>...</th>\n",
       "      <td>...</td>\n",
       "      <td>...</td>\n",
       "      <td>...</td>\n",
       "      <td>...</td>\n",
       "      <td>...</td>\n",
       "      <td>...</td>\n",
       "      <td>...</td>\n",
       "      <td>...</td>\n",
       "      <td>...</td>\n",
       "      <td>...</td>\n",
       "      <td>...</td>\n",
       "      <td>...</td>\n",
       "      <td>...</td>\n",
       "      <td>...</td>\n",
       "      <td>...</td>\n",
       "      <td>...</td>\n",
       "      <td>...</td>\n",
       "      <td>...</td>\n",
       "      <td>...</td>\n",
       "      <td>...</td>\n",
       "      <td>...</td>\n",
       "    </tr>\n",
       "    <tr>\n",
       "      <th>3441</th>\n",
       "      <td>2017</td>\n",
       "      <td>20000</td>\n",
       "      <td>5.0</td>\n",
       "      <td>0</td>\n",
       "      <td>0</td>\n",
       "      <td>1</td>\n",
       "      <td>1</td>\n",
       "      <td>0</td>\n",
       "      <td>1</td>\n",
       "      <td>0</td>\n",
       "      <td>...</td>\n",
       "      <td>0</td>\n",
       "      <td>0</td>\n",
       "      <td>0</td>\n",
       "      <td>0</td>\n",
       "      <td>0</td>\n",
       "      <td>0</td>\n",
       "      <td>0</td>\n",
       "      <td>0</td>\n",
       "      <td>0</td>\n",
       "      <td>0</td>\n",
       "    </tr>\n",
       "    <tr>\n",
       "      <th>1344</th>\n",
       "      <td>2013</td>\n",
       "      <td>81000</td>\n",
       "      <td>5.0</td>\n",
       "      <td>1</td>\n",
       "      <td>0</td>\n",
       "      <td>0</td>\n",
       "      <td>1</td>\n",
       "      <td>0</td>\n",
       "      <td>1</td>\n",
       "      <td>0</td>\n",
       "      <td>...</td>\n",
       "      <td>0</td>\n",
       "      <td>0</td>\n",
       "      <td>0</td>\n",
       "      <td>0</td>\n",
       "      <td>0</td>\n",
       "      <td>0</td>\n",
       "      <td>0</td>\n",
       "      <td>0</td>\n",
       "      <td>0</td>\n",
       "      <td>0</td>\n",
       "    </tr>\n",
       "    <tr>\n",
       "      <th>4623</th>\n",
       "      <td>2011</td>\n",
       "      <td>70000</td>\n",
       "      <td>5.0</td>\n",
       "      <td>1</td>\n",
       "      <td>0</td>\n",
       "      <td>0</td>\n",
       "      <td>1</td>\n",
       "      <td>0</td>\n",
       "      <td>1</td>\n",
       "      <td>0</td>\n",
       "      <td>...</td>\n",
       "      <td>0</td>\n",
       "      <td>0</td>\n",
       "      <td>0</td>\n",
       "      <td>0</td>\n",
       "      <td>0</td>\n",
       "      <td>0</td>\n",
       "      <td>0</td>\n",
       "      <td>0</td>\n",
       "      <td>0</td>\n",
       "      <td>0</td>\n",
       "    </tr>\n",
       "    <tr>\n",
       "      <th>7293</th>\n",
       "      <td>2015</td>\n",
       "      <td>57000</td>\n",
       "      <td>5.0</td>\n",
       "      <td>1</td>\n",
       "      <td>0</td>\n",
       "      <td>0</td>\n",
       "      <td>0</td>\n",
       "      <td>0</td>\n",
       "      <td>1</td>\n",
       "      <td>0</td>\n",
       "      <td>...</td>\n",
       "      <td>0</td>\n",
       "      <td>0</td>\n",
       "      <td>0</td>\n",
       "      <td>0</td>\n",
       "      <td>0</td>\n",
       "      <td>0</td>\n",
       "      <td>0</td>\n",
       "      <td>0</td>\n",
       "      <td>0</td>\n",
       "      <td>0</td>\n",
       "    </tr>\n",
       "    <tr>\n",
       "      <th>1289</th>\n",
       "      <td>2014</td>\n",
       "      <td>90000</td>\n",
       "      <td>5.0</td>\n",
       "      <td>1</td>\n",
       "      <td>0</td>\n",
       "      <td>0</td>\n",
       "      <td>1</td>\n",
       "      <td>0</td>\n",
       "      <td>1</td>\n",
       "      <td>0</td>\n",
       "      <td>...</td>\n",
       "      <td>0</td>\n",
       "      <td>0</td>\n",
       "      <td>0</td>\n",
       "      <td>0</td>\n",
       "      <td>0</td>\n",
       "      <td>0</td>\n",
       "      <td>0</td>\n",
       "      <td>0</td>\n",
       "      <td>0</td>\n",
       "      <td>0</td>\n",
       "    </tr>\n",
       "  </tbody>\n",
       "</table>\n",
       "<p>6502 rows × 1229 columns</p>\n",
       "</div>"
      ],
      "text/plain": [
       "      year  km_driven  seats  fuel_Diesel  fuel_LPG  fuel_Petrol  \\\n",
       "3365  2012      90000    NaN            1         0            0   \n",
       "6948  2014      60000    5.0            0         0            1   \n",
       "7977  2014     105000    5.0            1         0            0   \n",
       "6708  2011     110000    7.0            1         0            0   \n",
       "4652  2014     120000    7.0            1         0            0   \n",
       "...    ...        ...    ...          ...       ...          ...   \n",
       "3441  2017      20000    5.0            0         0            1   \n",
       "1344  2013      81000    5.0            1         0            0   \n",
       "4623  2011      70000    5.0            1         0            0   \n",
       "7293  2015      57000    5.0            1         0            0   \n",
       "1289  2014      90000    5.0            1         0            0   \n",
       "\n",
       "      seller_type_Individual  seller_type_Trustmark Dealer  \\\n",
       "3365                       1                             0   \n",
       "6948                       1                             0   \n",
       "7977                       0                             0   \n",
       "6708                       1                             0   \n",
       "4652                       1                             0   \n",
       "...                      ...                           ...   \n",
       "3441                       1                             0   \n",
       "1344                       1                             0   \n",
       "4623                       1                             0   \n",
       "7293                       0                             0   \n",
       "1289                       1                             0   \n",
       "\n",
       "      transmission_Manual  owner_Fourth & Above Owner  ...  \\\n",
       "3365                    1                           0  ...   \n",
       "6948                    1                           0  ...   \n",
       "7977                    1                           0  ...   \n",
       "6708                    1                           0  ...   \n",
       "4652                    1                           0  ...   \n",
       "...                   ...                         ...  ...   \n",
       "3441                    1                           0  ...   \n",
       "1344                    1                           0  ...   \n",
       "4623                    1                           0  ...   \n",
       "7293                    1                           0  ...   \n",
       "1289                    1                           0  ...   \n",
       "\n",
       "      torque_96 Nm at 3000 rpm  torque_96.1Nm@ 3000rpm  torque_96Nm@ 2500rpm  \\\n",
       "3365                         0                       0                     0   \n",
       "6948                         0                       0                     0   \n",
       "7977                         0                       0                     0   \n",
       "6708                         0                       0                     0   \n",
       "4652                         0                       0                     0   \n",
       "...                        ...                     ...                   ...   \n",
       "3441                         0                       0                     0   \n",
       "1344                         0                       0                     0   \n",
       "4623                         0                       0                     0   \n",
       "7293                         0                       0                     0   \n",
       "1289                         0                       0                     0   \n",
       "\n",
       "      torque_96Nm@ 3500rpm  torque_98Nm@ 1600-3000rpm  \\\n",
       "3365                     0                          0   \n",
       "6948                     0                          0   \n",
       "7977                     0                          0   \n",
       "6708                     0                          0   \n",
       "4652                     0                          0   \n",
       "...                    ...                        ...   \n",
       "3441                     0                          0   \n",
       "1344                     0                          0   \n",
       "4623                     0                          0   \n",
       "7293                     0                          0   \n",
       "1289                     0                          0   \n",
       "\n",
       "      torque_99.04Nm@ 4500rpm  torque_99.07Nm@ 4500rpm  \\\n",
       "3365                        0                        0   \n",
       "6948                        0                        0   \n",
       "7977                        0                        0   \n",
       "6708                        0                        0   \n",
       "4652                        0                        0   \n",
       "...                       ...                      ...   \n",
       "3441                        0                        0   \n",
       "1344                        0                        0   \n",
       "4623                        0                        0   \n",
       "7293                        0                        0   \n",
       "1289                        0                        0   \n",
       "\n",
       "      torque_99.1Nm@ 4500rpm  torque_99.8Nm@ 2700rpm  torque_99Nm@ 4500rpm  \n",
       "3365                       0                       0                     0  \n",
       "6948                       0                       0                     0  \n",
       "7977                       0                       0                     0  \n",
       "6708                       0                       0                     0  \n",
       "4652                       0                       0                     0  \n",
       "...                      ...                     ...                   ...  \n",
       "3441                       0                       0                     0  \n",
       "1344                       0                       0                     0  \n",
       "4623                       0                       0                     0  \n",
       "7293                       0                       0                     0  \n",
       "1289                       0                       0                     0  \n",
       "\n",
       "[6502 rows x 1229 columns]"
      ]
     },
     "execution_count": 207,
     "metadata": {},
     "output_type": "execute_result"
    }
   ],
   "source": [
    "x_train"
   ]
  },
  {
   "cell_type": "code",
   "execution_count": null,
   "id": "7a71869c",
   "metadata": {},
   "outputs": [],
   "source": []
  },
  {
   "cell_type": "code",
   "execution_count": null,
   "id": "a4fc2787",
   "metadata": {},
   "outputs": [],
   "source": []
  },
  {
   "cell_type": "code",
   "execution_count": null,
   "id": "946ffcc3",
   "metadata": {},
   "outputs": [],
   "source": []
  }
 ],
 "metadata": {
  "kernelspec": {
   "display_name": "Python 3 (ipykernel)",
   "language": "python",
   "name": "python3"
  },
  "language_info": {
   "codemirror_mode": {
    "name": "ipython",
    "version": 3
   },
   "file_extension": ".py",
   "mimetype": "text/x-python",
   "name": "python",
   "nbconvert_exporter": "python",
   "pygments_lexer": "ipython3",
   "version": "3.9.7"
  }
 },
 "nbformat": 4,
 "nbformat_minor": 5
}
